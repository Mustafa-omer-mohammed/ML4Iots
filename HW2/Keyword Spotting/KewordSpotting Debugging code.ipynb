{
 "cells": [
  {
   "cell_type": "code",
   "execution_count": 1,
   "id": "02d7e6a3",
   "metadata": {},
   "outputs": [
    {
     "name": "stdout",
     "output_type": "stream",
     "text": [
      "Python version used to excute the code is 3.7.11\n"
     ]
    }
   ],
   "source": [
    "import argparse\n",
    "import numpy as np\n",
    "import os\n",
    "import pandas as pd\n",
    "import tensorflow as tf\n",
    "import tensorflow.lite as tflite\n",
    "from tensorflow import keras\n",
    "import zlib\n",
    "from platform import python_version\n",
    "import tensorflow_model_optimization as tfmot   \n",
    "import tempfile\n",
    "print(f\"Python version used to excute the code is {python_version()}\")\n",
    "\n"
   ]
  },
  {
   "cell_type": "code",
   "execution_count": 2,
   "id": "d7b5e327",
   "metadata": {
    "tags": []
   },
   "outputs": [],
   "source": [
    "# ######################################################## Input Parameters #########################################################\n",
    "# parser = argparse.ArgumentParser()\n",
    "# parser.add_argument('--model', type=str, required=True, help='model name')\n",
    "# parser.add_argument('--mfcc', action='store_true', help='use MFCCs')\n",
    "# args = parser.parse_args()"
   ]
  },
  {
   "cell_type": "markdown",
   "id": "30ef0396",
   "metadata": {},
   "source": [
    "######################################################## Inputs and model selection  #########################################################"
   ]
  },
  {
   "cell_type": "code",
   "execution_count": 3,
   "id": "f6a2ea1d",
   "metadata": {},
   "outputs": [],
   "source": [
    "version = \"a\"\n",
    "m = \"cnn\"   # model name [ mlp , cnn , ds_cnn  ]\n",
    "mfcc = True    # True --> excute mfcc , False --> excute STFT\n",
    "alpha = 0.4    # The width multiplier used to apply the structured Pruning \n",
    "\n",
    "model_version = f\"_V_{version}_alpha={alpha}\"\n",
    "\n",
    "mymodel = m + model_version\n",
    "TFLITE =  f'{mymodel}.tflite'                                   # path for saving the best model after converted to TF.lite model \n",
    "units = 8                                                       # The number of output class [8:without silence , 9 : with silence]\n",
    "################## Fix the Random seed to reproduce the same results \n",
    "seed = 42\n",
    "tf.random.set_seed(seed)\n",
    "np.random.seed(seed)"
   ]
  },
  {
   "cell_type": "code",
   "execution_count": 4,
   "id": "de347c27-fcea-4b9b-98e1-bd8a1a3fbaec",
   "metadata": {},
   "outputs": [],
   "source": [
    "# train_files_test = np.loadtxt(\"kws_train_split.txt\" , dtype = str )\n",
    "# train_files_test[:10]"
   ]
  },
  {
   "cell_type": "code",
   "execution_count": 5,
   "id": "fcaac8ab-8ec8-4976-a65f-f544534bc9ba",
   "metadata": {},
   "outputs": [],
   "source": [
    "# train_files = tf.convert_to_tensor(np.loadtxt(\"kws_train_split.txt\" , dtype = str ))\n",
    "# train_files"
   ]
  },
  {
   "cell_type": "code",
   "execution_count": 6,
   "id": "d71e6073-de6e-48b1-811b-bc13eebf93bb",
   "metadata": {},
   "outputs": [],
   "source": [
    "# train_files_test= tf.data.TextLineDataset(\"kws_train_split.txt\")"
   ]
  },
  {
   "cell_type": "code",
   "execution_count": 7,
   "id": "f2429fa1-4b31-4aca-aa92-1395983f6c71",
   "metadata": {},
   "outputs": [],
   "source": [
    "# for line in train_files_test.take(5):\n",
    "#     print(line)"
   ]
  },
  {
   "cell_type": "code",
   "execution_count": 8,
   "id": "b6332995",
   "metadata": {},
   "outputs": [
    {
     "name": "stdout",
     "output_type": "stream",
     "text": [
      "The LABELS order as provided to the model are ['stop' 'up' 'yes' 'right' 'left' 'no' 'down' 'go']\n"
     ]
    }
   ],
   "source": [
    "\n",
    "\n",
    "\n",
    "zip_path = tf.keras.utils.get_file(\n",
    "    origin=\"http://storage.googleapis.com/download.tensorflow.org/data/mini_speech_commands.zip\",\n",
    "    fname='mini_speech_commands.zip',\n",
    "    extract=True,\n",
    "    cache_dir='.', cache_subdir='data')\n",
    "\n",
    "data_dir = os.path.join('.', 'data', 'mini_speech_commands')\n",
    "\n",
    "# filenames = tf.io.gfile.glob(str(data_dir) + '/*/*')\n",
    "# filenames = tf.random.shuffle(filenames)\n",
    "# num_samples = len(filenames)\n",
    "\n",
    "# total = 8000          # NUMBER OF TOTAL Files Including THE Silence records \n",
    "\n",
    "# train_files =   filenames[: int(total*0.8)]                                             # filenames[:int(total*0.8)]\n",
    "# val_files = filenames[int(total*0.8): int(total*0.9)]\n",
    "# test_files = filenames[int(total*0.9):]\n",
    "\n",
    "train_files = tf.convert_to_tensor(np.loadtxt(\"kws_train_split.txt\" , dtype = str ))\n",
    "val_files = tf.convert_to_tensor(np.loadtxt(\"kws_val_split.txt\" , dtype = str ) )\n",
    "test_files = tf.convert_to_tensor(np.loadtxt(\"kws_test_split.txt\" , dtype = str ))\n",
    "\n",
    "# with silence ['stop', 'up', 'yes', 'right', 'left', 'no', 'silence', 'down', 'go']\n",
    "LABELS = np.array(['stop', 'up', 'yes', 'right', 'left', 'no',  'down', 'go'] , dtype = str) \n",
    "print (f\"The LABELS order as provided to the model are {LABELS}\")"
   ]
  },
  {
   "cell_type": "code",
   "execution_count": 9,
   "id": "f5f71113-9d9c-44f7-968f-eabe97d390ff",
   "metadata": {},
   "outputs": [],
   "source": [
    "# # test_files = tf.convert_to_tensor(test_files)\n",
    "# # tf.shape(test_files)\n",
    "# tf.shape(test_files)\n",
    "# test_files[0]"
   ]
  },
  {
   "cell_type": "code",
   "execution_count": 10,
   "id": "91b26257-19b9-45fb-a786-e931e6e9d05c",
   "metadata": {},
   "outputs": [],
   "source": [
    "# parts = tf.strings.split(test_files[0], \"/\")"
   ]
  },
  {
   "cell_type": "code",
   "execution_count": 11,
   "id": "d44392a3-4b4e-4b27-95f6-37e570278955",
   "metadata": {},
   "outputs": [],
   "source": [
    "# parts[-2]"
   ]
  },
  {
   "cell_type": "markdown",
   "id": "5890cb39",
   "metadata": {},
   "source": [
    "######################################################## Create the SignalGenerator #########################################################"
   ]
  },
  {
   "cell_type": "code",
   "execution_count": 12,
   "id": "6bcce69d",
   "metadata": {},
   "outputs": [],
   "source": [
    "\n",
    "class SignalGenerator:\n",
    "    def __init__(self, labels, sampling_rate, frame_length, frame_step,\n",
    "            num_mel_bins=None, lower_frequency=None, upper_frequency=None,\n",
    "            num_coefficients=None, mfcc=False):\n",
    "        self.labels = labels\n",
    "        self.sampling_rate = sampling_rate                                             # 16000  \n",
    "        self.frame_length = frame_length                                               # 640 \n",
    "        self.frame_step = frame_step                                                   # 320 \n",
    "        self.num_mel_bins = num_mel_bins                                               # 40 \n",
    "        self.lower_frequency = lower_frequency                                         # 20 \n",
    "        self.upper_frequency = upper_frequency                                         # 4000\n",
    "        self.num_coefficients = num_coefficients                                       # 10 \n",
    "        num_spectrogram_bins = (frame_length) // 2 + 1                                  # ( frame size // 2 ) + 1 \n",
    "\n",
    "        '''\n",
    "        STFT_OPTIONS = {'frame_length': 256, 'frame_step': 128, 'mfcc': False}\n",
    "        MFCC_OPTIONS = {'frame_length': 640, 'frame_step': 320, 'mfcc': True,\n",
    "        'lower_frequency': 20, 'upper_frequency': 4000, 'num_mel_bins': 40,\n",
    "        'num_coefficients': 10}\n",
    "        '''\n",
    "\n",
    "        if mfcc is True:                                                                # Remember we need to compute this matrix once so it will be a class argument \n",
    "            self.linear_to_mel_weight_matrix = tf.signal.linear_to_mel_weight_matrix(\n",
    "                    self.num_mel_bins, num_spectrogram_bins, self.sampling_rate,\n",
    "                    self.lower_frequency, self.upper_frequency)\n",
    "            self.preprocess = self.preprocess_with_mfcc\n",
    "        else:\n",
    "            self.preprocess = self.preprocess_with_stft\n",
    "\n",
    "    def read(self, file_path):\n",
    "        parts = tf.strings.split(file_path, \"/\")\n",
    "        label = parts[-2]                                  # -1 is audio.wav so \n",
    "        label_id = tf.argmax(label == self.labels)\n",
    "        audio_binary = tf.io.read_file(file_path)\n",
    "        audio, _ = tf.audio.decode_wav(audio_binary)\n",
    "        audio = tf.squeeze(audio, axis=1)\n",
    "\n",
    "        return audio, label_id\n",
    "\n",
    "    def pad(self, audio):\n",
    "        # Padding for files with less than 16000 samples\n",
    "        zero_padding = tf.zeros([self.sampling_rate] - tf.shape(audio), dtype=tf.float32)     # if the shape of the audio is already = 16000 (sampling rate) we will add nothing \n",
    "\n",
    "        # Concatenate audio with padding so that all audio clips will be of the  same length\n",
    "        audio = tf.concat([audio, zero_padding], 0)\n",
    "        # Unify the shape to the sampling frequency (16000 , )\n",
    "        audio.set_shape([self.sampling_rate])\n",
    "\n",
    "        return audio\n",
    "\n",
    "    def get_spectrogram(self, audio):\n",
    "        stft = tf.signal.stft(audio, frame_length=self.frame_length,\n",
    "                frame_step=self.frame_step, fft_length=self.frame_length)\n",
    "        spectrogram = tf.abs(stft)\n",
    "\n",
    "        return spectrogram\n",
    "\n",
    "    def get_mfccs(self, spectrogram):\n",
    "        mel_spectrogram = tf.tensordot(spectrogram,\n",
    "                self.linear_to_mel_weight_matrix, 1)\n",
    "        log_mel_spectrogram = tf.math.log(mel_spectrogram + 1.e-6)\n",
    "        mfccs = tf.signal.mfccs_from_log_mel_spectrograms(log_mel_spectrogram)\n",
    "        mfccs = mfccs[..., :self.num_coefficients]\n",
    "\n",
    "        return mfccs\n",
    "\n",
    "    def preprocess_with_stft(self, file_path):\n",
    "        audio, label = self.read(file_path)\n",
    "        audio = self.pad(audio)\n",
    "        spectrogram = self.get_spectrogram(audio)\n",
    "        spectrogram = tf.expand_dims(spectrogram, -1)                         # expand_dims will not add or reduce elements in a tensor, it just changes the shape by adding 1 to dimensions for the batchs. \n",
    "    \n",
    "        spectrogram = tf.image.resize(spectrogram, [32, 32])\n",
    "\n",
    "        return spectrogram, label\n",
    "\n",
    "    def preprocess_with_mfcc(self, file_path):\n",
    "        audio, label = self.read(file_path)\n",
    "        audio = self.pad(audio)\n",
    "        spectrogram = self.get_spectrogram(audio)\n",
    "        mfccs = self.get_mfccs(spectrogram)\n",
    "        mfccs = tf.expand_dims(mfccs, -1)\n",
    "\n",
    "        return mfccs, label\n",
    "\n",
    "    def make_dataset(self, files, train):\n",
    "        ds = tf.data.Dataset.from_tensor_slices(files)\n",
    "        ds = ds.map(self.preprocess, num_parallel_calls = tf.data.experimental.AUTOTUNE) # better than 4 tf.data.experimental.AUTOTUNE will use the maximum num_parallel_calls \n",
    "        ds = ds.batch(32)\n",
    "        ds = ds.cache()\n",
    "        ds = ds.prefetch(tf.data.experimental.AUTOTUNE)\n",
    "        if train is True:\n",
    "            ds = ds.shuffle(100, reshuffle_each_iteration=True)\n",
    "\n",
    "        return ds\n"
   ]
  },
  {
   "cell_type": "markdown",
   "id": "8d2006ae",
   "metadata": {},
   "source": [
    "######################################################## Options for MFCC & STFT #########################################################"
   ]
  },
  {
   "cell_type": "code",
   "execution_count": 13,
   "id": "89a3ab1a",
   "metadata": {},
   "outputs": [],
   "source": [
    "STFT_OPTIONS = {'frame_length': 256, 'frame_step': 128, 'mfcc': False}\n",
    "MFCC_OPTIONS = {'frame_length': 640, 'frame_step': 320, 'mfcc': True,                   #'lower_frequency': 40, 'upper_frequency': 2700, 'num_mel_bins': 32\n",
    "        'lower_frequency': 32, 'upper_frequency': 2700, 'num_mel_bins': 32,\n",
    "        'num_coefficients': 10}\n",
    "if mfcc is True:\n",
    "    options = MFCC_OPTIONS\n",
    "    strides = [2, 1]\n",
    "else:\n",
    "    options = STFT_OPTIONS\n",
    "    strides = [2, 2]\n",
    "\n"
   ]
  },
  {
   "cell_type": "markdown",
   "id": "ec263661",
   "metadata": {},
   "source": [
    "######################################################## Generate Data set splits #########################################################"
   ]
  },
  {
   "cell_type": "code",
   "execution_count": 14,
   "id": "a5eddb98",
   "metadata": {},
   "outputs": [],
   "source": [
    "generator = SignalGenerator(LABELS, 16000, **options)\n",
    "train_ds = generator.make_dataset(train_files, True)\n",
    "val_ds = generator.make_dataset(val_files, False)\n",
    "test_ds = generator.make_dataset(test_files, False)"
   ]
  },
  {
   "cell_type": "code",
   "execution_count": 15,
   "id": "66f0b221",
   "metadata": {},
   "outputs": [],
   "source": [
    "############## checking shapes and values of data sets "
   ]
  },
  {
   "cell_type": "code",
   "execution_count": 27,
   "id": "3ec85c4e",
   "metadata": {},
   "outputs": [],
   "source": [
    "it = iter(val_ds)"
   ]
  },
  {
   "cell_type": "code",
   "execution_count": 29,
   "id": "a9c72d36",
   "metadata": {},
   "outputs": [
    {
     "name": "stdout",
     "output_type": "stream",
     "text": [
      "(32, 49, 10, 1)\n",
      "tf.Tensor([5 7 2 1 7 4 5 0 5 0 2 4 6 7 3 4 5 4 0 6 3 6 1 2 6 5 1 6 4 2 5 0], shape=(32,), dtype=int64)\n"
     ]
    }
   ],
   "source": [
    "inp , label = next(it)\n",
    "print(inp.shape)\n",
    "print(label)"
   ]
  },
  {
   "cell_type": "markdown",
   "id": "42d3f49c",
   "metadata": {},
   "source": [
    "##### building the models ########################################################"
   ]
  },
  {
   "cell_type": "code",
   "execution_count": null,
   "id": "7e7c93f1",
   "metadata": {},
   "outputs": [],
   "source": [
    "\n",
    "\n",
    "mlp = tf.keras.Sequential([\n",
    "    tf.keras.layers.Flatten(),\n",
    "    tf.keras.layers.Dense(units = int(256 *alpha), activation='relu' , name =  \"Dense-1\" ),\n",
    "    tf.keras.layers.Dense(units = int(256 *alpha), activation='relu', name =  \"Dense-2\"),\n",
    "    tf.keras.layers.Dense(units = int(256 *alpha), activation='relu', name =   \"Dense-3\" ),\n",
    "    tf.keras.layers.Dense(units = units , name =  \"Output-Layer\")                                   # change to 9 if silence included \n",
    "])\n",
    "\n",
    "cnn = tf.keras.Sequential([\n",
    "    tf.keras.layers.Conv2D(filters=int(128 *alpha), kernel_size=[3,3], strides=strides, use_bias=False , name = \"Conv2D-1\"),\n",
    "    tf.keras.layers.BatchNormalization(momentum=0.1 , name = \"Btch_Norm-1\"),\n",
    "    tf.keras.layers.ReLU(),\n",
    "    tf.keras.layers.Conv2D(filters=int(128 *alpha), kernel_size=[3,3], strides=[1,1], use_bias=False , name = \"Conv2D-2\"),\n",
    "    tf.keras.layers.BatchNormalization(momentum=0.1 , name = \"Btch_Norm-2\"),\n",
    "    tf.keras.layers.ReLU(),\n",
    "    tf.keras.layers.Conv2D(filters=int(128 *alpha), kernel_size=[3,3], strides=[1,1], use_bias=False , name = \"Conv2D-3\"),\n",
    "    tf.keras.layers.BatchNormalization(momentum=0.1 , name = \"Btch_Norm-3\"),\n",
    "    tf.keras.layers.ReLU(),\n",
    "    tf.keras.layers.GlobalAveragePooling2D( name =  \"GlobalAveragePooling-Layer\"),\n",
    "    tf.keras.layers.Dense(units = units, name =  \"Output-Layer\")\n",
    "])\n",
    "\n",
    "ds_cnn = tf.keras.Sequential([\n",
    "    tf.keras.layers.Conv2D(filters=int(256 *alpha), kernel_size=[3,3], strides=strides, use_bias=False, name = \"Conv2D-1\"),\n",
    "    tf.keras.layers.BatchNormalization(momentum=0.1),\n",
    "    tf.keras.layers.ReLU(),\n",
    "    tf.keras.layers.DepthwiseConv2D(kernel_size=[3, 3], strides=[1, 1], use_bias=False, name = \"DepthwiseConv2D-1\"),\n",
    "    tf.keras.layers.Conv2D(filters=int(256 *alpha), kernel_size=[1,1], strides=[1,1], use_bias=False, name = \"Conv2D-2\"),\n",
    "    tf.keras.layers.BatchNormalization(momentum=0.1),\n",
    "    tf.keras.layers.ReLU(),\n",
    "    tf.keras.layers.DepthwiseConv2D(kernel_size=[3, 3], strides=[1, 1], use_bias=False, name = \"DepthwiseConv2D-2\"),\n",
    "    tf.keras.layers.Conv2D(filters=int(256 *alpha), kernel_size=[1,1], strides=[1,1], use_bias=False, name = \"Conv2D-3\"),\n",
    "    tf.keras.layers.BatchNormalization(momentum=0.1),\n",
    "    tf.keras.layers.ReLU(),\n",
    "    tf.keras.layers.GlobalAveragePooling2D( name =  \"GlobalAveragePooling-Layer\"),\n",
    "    tf.keras.layers.Dense(units = units, name =  \"Output-Layer\")\n",
    "])\n",
    "\n",
    "\n",
    "MODELS = {'mlp'+ model_version : mlp, 'cnn'+ model_version: cnn, 'ds_cnn'+ model_version: ds_cnn}\n",
    "print(MODELS.keys())"
   ]
  },
  {
   "cell_type": "markdown",
   "id": "72932ada",
   "metadata": {},
   "source": [
    "######################################################## Define optimizer & Losses & Metrics ########################################################"
   ]
  },
  {
   "cell_type": "code",
   "execution_count": null,
   "id": "76e03255",
   "metadata": {},
   "outputs": [],
   "source": [
    "\n",
    "model = MODELS[mymodel]              # initiate the selected model \n",
    "\n",
    "loss = tf.losses.SparseCategoricalCrossentropy(from_logits=True)\n",
    "optimizer = tf.optimizers.Adam()\n",
    "metrics = [tf.keras.metrics.SparseCategoricalAccuracy()]\n",
    "\n",
    "\n",
    "################### Compiling the model :\n",
    "\n",
    "model.compile(loss = loss, optimizer = optimizer, metrics = metrics)\n",
    "\n",
    "######################################################## check points depending on preprocessing STFT , MFCC \n",
    "if mfcc is False:\n",
    "    checkpoint_filepath = f'./checkpoints/stft/chkp_best_{mymodel}'\n",
    "\n",
    "else:\n",
    "    checkpoint_filepath = f'./checkpoints/mfcc/chkp_best_{mymodel}'\n",
    "    \n",
    "model_checkpoint_callback = tf.keras.callbacks.ModelCheckpoint(\n",
    "    filepath=checkpoint_filepath,           \n",
    "    monitor='val_sparse_categorical_accuracy',\n",
    "    verbose=1,\n",
    "    mode='max',\n",
    "    save_best_only=True,\n",
    "    save_freq='epoch')"
   ]
  },
  {
   "cell_type": "code",
   "execution_count": null,
   "id": "bc9193b6-edf4-4a3a-95ce-ebf6fdfed2ee",
   "metadata": {},
   "outputs": [],
   "source": [
    "######################################################## Model Training ########################################################\n",
    "\n",
    "history = model.fit(train_ds, epochs=20,   validation_data=val_ds,callbacks=[model_checkpoint_callback ])\n",
    "\n",
    "############################## Print Model Summary ####################\n",
    "print(model.summary())    \n"
   ]
  },
  {
   "cell_type": "code",
   "execution_count": null,
   "id": "163455e4",
   "metadata": {},
   "outputs": [],
   "source": [
    "import matplotlib.pyplot as plt\n",
    "def plot_loss(history):\n",
    "    plt.plot(history.history['sparse_categorical_accuracy'], label='Accuracy')\n",
    "    plt.plot(history.history['val_sparse_categorical_accuracy'], label='val_Accuracy')\n",
    "    plt.xlabel('Epoch')\n",
    "    plt.ylabel('Accuracy')\n",
    "    plt.legend()\n",
    "    plt.grid(True)\n",
    "    plt.savefig(mymodel+\".png\")\n",
    "\n",
    "plot_loss(history)"
   ]
  },
  {
   "cell_type": "code",
   "execution_count": null,
   "id": "6daec602-ee2d-4a76-8583-a4c303b66754",
   "metadata": {},
   "outputs": [],
   "source": [
    "######################################################## Function To Evaluate the best model and convert to TF Lite ########################################################\n",
    "\n",
    "def S_pruning_Model_evaluate_and_compress_to_TFlite( tflite_model_dir =  TFLITE , checkpoint_filepath = checkpoint_filepath ):\n",
    "    if not os.path.exists('./models'):\n",
    "        os.makedirs('./models')\n",
    "    best_model = tf.keras.models.load_model(filepath = checkpoint_filepath )\n",
    "    Loss , ACCURACY = best_model.evaluate(test_ds)\n",
    "    print(\"*\"*50,\"\\n\",f\" The accuracy achieved by the best model before convertion = {ACCURACY *100:0.2f}% \")\n",
    "    # Convert to TF lite without Quantization \n",
    "    converter = tf.lite.TFLiteConverter.from_saved_model(checkpoint_filepath)\n",
    "    tflite_model = converter.convert()  \n",
    "    Compressed = \"compressed_\"+tflite_model_dir \n",
    "    tflite_model_dir = './models/'+tflite_model_dir\n",
    "    # Write the model in binary formate and save it \n",
    "    with open(tflite_model_dir, 'wb') as fp:\n",
    "        fp.write(tflite_model)\n",
    "    Compressed = './models/'+Compressed\n",
    "    with open(Compressed, 'wb') as fp:\n",
    "        tflite_compressed = zlib.compress(tflite_model)\n",
    "        fp.write(tflite_compressed)\n",
    "    print(\"*\"*50,\"\\n\",f\"the model is saved successfuly to {tflite_model_dir}\")\n",
    "    return Compressed , tflite_model_dir "
   ]
  },
  {
   "cell_type": "code",
   "execution_count": null,
   "id": "388ba89e-6ae1-4237-80aa-181f60e54fc9",
   "metadata": {},
   "outputs": [],
   "source": [
    "def getsize(file):\n",
    "    st = os.stat(file)\n",
    "    size = st.st_size\n",
    "    return size\n",
    "\n",
    "######################################################## Function To Load  Evaluate the TF Lite  Model ########################################################\n",
    "\n",
    "def load_and_evaluation(path, dataset , Compressed):\n",
    "    interpreter = tf.lite.Interpreter(model_path = path) \n",
    "    interpreter.allocate_tensors()\n",
    "    input_details = interpreter.get_input_details()\n",
    "    output_details = interpreter.get_output_details()\n",
    "\n",
    "    dataset = test_ds.unbatch().batch(1)\n",
    "    \n",
    "    COMMANDS = ['stop', 'up', 'yes', 'right', 'left', 'no',  'down', 'go']\n",
    "    \n",
    "    outputs = []\n",
    "    labels = []\n",
    "    count = 0                                 # counter to compute the number of correct predictions \n",
    "    total = 0                                 # total number of samples / predictions ==> acc = count/total\n",
    "    \n",
    "    for inp , label in dataset:\n",
    "        my_input = np.array(inp, dtype = np.float32)\n",
    "        label = np.array(label, dtype = np.float32)\n",
    "    \n",
    "         \n",
    "        labels.append(label)\n",
    "\n",
    "        interpreter.set_tensor(input_details[0]['index'], my_input)\n",
    "        interpreter.invoke()\n",
    "        my_output = interpreter.get_tensor(output_details[0]['index'])\n",
    "        predict = np.argmax(my_output)                                 # the prediction crossponds to the index of with the highest probability   \n",
    "        outputs.append(predict)\n",
    "        total += 1   \n",
    "        if (predict == label):                                         # if probability == labesl increase the correct predictions counter \n",
    "            count += 1\n",
    "    # Compute the Accuracy         \n",
    "    accuracy = count/total \n",
    "    # Evaluate the size of Tflite model \n",
    "    size = getsize(path)\n",
    "    # Evaluate the size of Tflite model  after Comperession \n",
    "    size_compressed = getsize(Compressed)\n",
    "    print (\"*\"*50,\"\\n\",f\"The Size of TF lite model  Before compression is = {size /1000 } kb\" )\n",
    "    print (\"*\"*50,\"\\n\",f\"The Size of TF lite model  After compression is = {size_compressed /1000 } kb\" )\n",
    "    print (\"*\"*50,\"\\n\",f\"The accuracy of TF lite model is = {accuracy *100 :0.2f}% \" )\n",
    "    \n",
    "\n",
    "\n"
   ]
  },
  {
   "cell_type": "markdown",
   "id": "9f9558f3",
   "metadata": {},
   "source": [
    "######################################################## Generate Representitive data for Weight + activation Quantization ########################################################"
   ]
  },
  {
   "cell_type": "code",
   "execution_count": null,
   "id": "3c96a324",
   "metadata": {},
   "outputs": [],
   "source": [
    "# Function for weight and activations quantization \n",
    "def representative_dataset_gen():\n",
    "    for x, _ in train_ds.take(1000):\n",
    "        yield [x]"
   ]
  },
  {
   "cell_type": "code",
   "execution_count": null,
   "id": "7d9977c8-de77-47c3-877b-55a99c083ab4",
   "metadata": {},
   "outputs": [],
   "source": [
    "######################################################## Apply quantization Function ########################################################\n",
    "\n",
    "def apply_Quantization(tflite_model_dir =  TFLITE ,  PQT = False , WAPQT = False ,  checkpoint_filepath = checkpoint_filepath ): \n",
    "\n",
    "    converter = tf.lite.TFLiteConverter.from_saved_model(checkpoint_filepath)\n",
    "    \n",
    "    # Apply weight only quantization \n",
    "    if PQT == True :\n",
    "        tflite_model_dir = f\"PQT_{tflite_model_dir}\"\n",
    "        converter.optimizations = [tf.lite.Optimize.DEFAULT]\n",
    "        tflite_model = converter.convert()\n",
    "    # Apply weight + Activation  quantization \n",
    "    if WAPQT == True :\n",
    "        converter.optimizations = [tf.lite.Optimize.DEFAULT]\n",
    "        converter.representative_dataset = representative_dataset_gen\n",
    "        tflite_model = converter.convert()\n",
    "        \n",
    "        tflite_model_dir = f\"WAPQT_{tflite_model_dir}\"\n",
    "    Compressed =  f\"compressed_{tflite_model_dir}\"\n",
    "    tflite_model_dir =   f\"./models/{tflite_model_dir}\"\n",
    "    # Write the model in binary formate and save it \n",
    "    with open(tflite_model_dir, 'wb') as fp:\n",
    "        fp.write(tflite_model)\n",
    "    Compressed = f\"./models/{Compressed}\"\n",
    "    with open(Compressed, 'wb') as fp:\n",
    "        tflite_compressed = zlib.compress(tflite_model)\n",
    "        fp.write(tflite_compressed)\n",
    "    print(f\"the model is saved successfuly to {tflite_model_dir}\")\n",
    "    return Compressed , tflite_model_dir "
   ]
  },
  {
   "cell_type": "markdown",
   "id": "2188e7ae",
   "metadata": {},
   "source": [
    "### Without Quantization"
   ]
  },
  {
   "cell_type": "code",
   "execution_count": null,
   "id": "599d29c8",
   "metadata": {},
   "outputs": [],
   "source": [
    "Compressed , tflite_model_dir = S_pruning_Model_evaluate_and_compress_to_TFlite( tflite_model_dir =  TFLITE , checkpoint_filepath = checkpoint_filepath )"
   ]
  },
  {
   "cell_type": "code",
   "execution_count": null,
   "id": "b7aaa287",
   "metadata": {},
   "outputs": [],
   "source": [
    "load_and_evaluation(tflite_model_dir, test_ds , Compressed)"
   ]
  },
  {
   "cell_type": "markdown",
   "id": "c9f13271",
   "metadata": {},
   "source": [
    "### Weights only Quantization "
   ]
  },
  {
   "cell_type": "code",
   "execution_count": null,
   "id": "6844148b",
   "metadata": {},
   "outputs": [],
   "source": [
    "Compressed , Quantized   = apply_Quantization(PQT=True )"
   ]
  },
  {
   "cell_type": "code",
   "execution_count": null,
   "id": "8e329023",
   "metadata": {},
   "outputs": [],
   "source": [
    "load_and_evaluation(Quantized , test_ds , Compressed)"
   ]
  },
  {
   "cell_type": "markdown",
   "id": "e31d0454",
   "metadata": {},
   "source": [
    "### Weights + Activation only Quantization "
   ]
  },
  {
   "cell_type": "code",
   "execution_count": null,
   "id": "632b8ac2",
   "metadata": {},
   "outputs": [],
   "source": [
    "WA_Compressed , WA_Quantized  = apply_Quantization(WAPQT=True)"
   ]
  },
  {
   "cell_type": "code",
   "execution_count": null,
   "id": "12379dd2",
   "metadata": {},
   "outputs": [],
   "source": [
    "load_and_evaluation(WA_Quantized , test_ds , WA_Compressed)"
   ]
  },
  {
   "cell_type": "markdown",
   "id": "268065f8",
   "metadata": {},
   "source": [
    "## Quantization aware Training :"
   ]
  },
  {
   "cell_type": "code",
   "execution_count": null,
   "id": "e40ae742",
   "metadata": {},
   "outputs": [],
   "source": [
    "import tensorflow_model_optimization as tfmot\n",
    "\n",
    "Q_aware_checkpoint_filepath = F'Q_aware_chkp_best_{mymodel}'\n",
    "    \n",
    "Q_aware_model_checkpoint_callback = tf.keras.callbacks.ModelCheckpoint(\n",
    "    filepath=Q_aware_checkpoint_filepath,           \n",
    "    monitor='val_sparse_categorical_accuracy',\n",
    "    verbose=1,\n",
    "    mode='max',\n",
    "    save_best_only=True,\n",
    "    save_freq='epoch')\n",
    "\n",
    "def Quantization_aware_traning(filepath = checkpoint_filepath , checkpoint_callback = Q_aware_model_checkpoint_callback ):\n",
    "\n",
    "    quantize_model = tfmot.quantization.keras.quantize_model\n",
    "    \n",
    "    # Retrieve the best pre_trained model float 32 \n",
    "    model = tf.keras.models.load_model(filepath = filepath )\n",
    "    \n",
    "    # Initiate a Quantization aware model from the Float 32 model to be trained \n",
    "    q_aware_model = quantize_model(model)\n",
    "    \n",
    "    # Model compile and define loss and metric \n",
    "    q_aware_model.compile(loss = loss, optimizer = optimizer, metrics = metrics)\n",
    "    \n",
    "    # Train the model for few epochs \n",
    "    q_aware_model_history = q_aware_model.fit(train_ds, epochs=10,   validation_data=val_ds,callbacks=[checkpoint_callback ])\n",
    "    \n",
    "    ############################## Print Model Summary ####################\n",
    "    print(model.summary())\n",
    "    \n",
    "    # Evaluate the best model \n",
    "    best_model = tf.keras.models.load_model(filepath = Q_aware_checkpoint_filepath )\n",
    "    Loss , ACCURACY = best_model.evaluate(test_ds)\n",
    "    print(\"*\"*50,\"\\n\",f\" The accuracy achieved by the best model before convertion = {ACCURACY *100:0.2f}% \")\n",
    "    \n",
    "    "
   ]
  },
  {
   "cell_type": "code",
   "execution_count": null,
   "id": "bc508af8-6f0f-4878-b46a-24d75e61caf8",
   "metadata": {},
   "outputs": [],
   "source": [
    "######################################################## Apply quantization Aware Training on the Pre Trained Model ########################################################\n",
    "\n",
    "Quantization_aware_traning(filepath = checkpoint_filepath , checkpoint_callback = Q_aware_model_checkpoint_callback )"
   ]
  },
  {
   "cell_type": "markdown",
   "id": "1b0d81af",
   "metadata": {},
   "source": [
    "### Quantization Aware model saving"
   ]
  },
  {
   "cell_type": "code",
   "execution_count": null,
   "id": "f7db9f10-9122-45ec-95c5-0317d2268d48",
   "metadata": {},
   "outputs": [],
   "source": [
    "QAT_tflite_model_dir , Q_Aware_T_Compressed = Q_Aware_T_Tflite_save(filepath = Q_aware_checkpoint_filepath)\n",
    "\n",
    "load_and_evaluation(QAT_tflite_model_dir, test_ds , Q_Aware_T_Compressed)"
   ]
  },
  {
   "cell_type": "code",
   "execution_count": null,
   "id": "0540d178",
   "metadata": {},
   "outputs": [],
   "source": []
  }
 ],
 "metadata": {
  "kernelspec": {
   "display_name": "Python 3",
   "language": "python",
   "name": "python3"
  },
  "language_info": {
   "codemirror_mode": {
    "name": "ipython",
    "version": 3
   },
   "file_extension": ".py",
   "mimetype": "text/x-python",
   "name": "python",
   "nbconvert_exporter": "python",
   "pygments_lexer": "ipython3",
   "version": "3.7.11"
  }
 },
 "nbformat": 4,
 "nbformat_minor": 5
}
